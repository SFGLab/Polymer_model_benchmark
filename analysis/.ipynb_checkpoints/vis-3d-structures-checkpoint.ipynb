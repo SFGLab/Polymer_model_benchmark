{
 "cells": [
  {
   "cell_type": "code",
   "execution_count": 1,
   "id": "3a668e89-4fd0-42eb-a251-bd1d539785ab",
   "metadata": {},
   "outputs": [],
   "source": [
    "import numpy as np\n",
    "\n",
    "def get_coordinates_cif(file):\n",
    "    '''\n",
    "    It returns the corrdinate matrix V (N,3) of a .pdb file.\n",
    "    The main problem of this function is that coordiantes are not always in \n",
    "    the same column position of a .pdb file. Do changes appropriatelly,\n",
    "    in case that the data aren't stored correctly. \n",
    "    \n",
    "    Input:\n",
    "    file (str): the path of the .cif file.\n",
    "    \n",
    "    Output:\n",
    "    V (np.array): the matrix of coordinates\n",
    "    '''\n",
    "    V = list()\n",
    "    \n",
    "    with open(file, 'r') as f:\n",
    "        lines = f.readlines()\n",
    "        for line in lines:\n",
    "            if line.startswith(\"ATOM\"):\n",
    "                columns = line.split()\n",
    "                x = eval(columns[10])\n",
    "                y = eval(columns[11])\n",
    "                z = eval(columns[12])\n",
    "                V.append([x, y, z])\n",
    "    \n",
    "    return np.array(V)"
   ]
  },
  {
   "cell_type": "code",
   "execution_count": 3,
   "id": "4a597d2c-dd9b-403d-a42e-ee4afbb40b0d",
   "metadata": {},
   "outputs": [],
   "source": [
    "import chromospyce"
   ]
  },
  {
   "cell_type": "markdown",
   "id": "84596674-21a4-4b30-b243-418de2916cbc",
   "metadata": {},
   "source": [
    "# LoopSage"
   ]
  },
  {
   "cell_type": "markdown",
   "id": "157aeeb2-8c99-4ba1-97e8-27a1ea01adaf",
   "metadata": {},
   "source": [
    "## from Hi-C"
   ]
  },
  {
   "cell_type": "code",
   "execution_count": 4,
   "id": "5a6569af-a920-46f0-989a-09de676ce96f",
   "metadata": {},
   "outputs": [
    {
     "data": {
      "application/vnd.jupyter.widget-view+json": {
       "model_id": "4a0e83af588f44cbbf3635a55903c13c",
       "version_major": 2,
       "version_minor": 0
      },
      "text/plain": [
       "Widget(is_numpy=True, nparr_model=b'\\x83/L\\xa6\\n\\xd6B\\xc0_\\x07\\xce\\x19Q\\xda\\xf2\\xbfq\\x1b\\r\\xe0-\\x90\\x14\\xc07\\x…"
      ]
     },
     "execution_count": 4,
     "metadata": {},
     "output_type": "execute_result"
    }
   ],
   "source": [
    "import pathlib\n",
    "filepath = \"/home/data/region_of_interest/LoopSage_HiC.cif\"\n",
    "# filepath = \"./LoopSage_HiC.cif\"\n",
    "data = get_coordinates_cif(filepath)\n",
    "# print(data)\n",
    "# print(data.dtype)\n",
    "\n",
    "# import chromospyce\n",
    "\n",
    "model_file = pathlib.Path(filepath)\n",
    "\n",
    "# print(data.tobytes())\n",
    "# ChromospaceWidget(np_model=data)\n",
    "chromospyce.Widget(nparr_model=data.tobytes(), is_numpy=True)"
   ]
  },
  {
   "cell_type": "markdown",
   "id": "304206e5-e192-4e0f-89b3-d3258478e9c0",
   "metadata": {},
   "source": [
    "## from ChIA-PET"
   ]
  },
  {
   "cell_type": "code",
   "execution_count": 5,
   "id": "ba5cbc85-9cb3-404c-b915-3932f5054bbc",
   "metadata": {},
   "outputs": [
    {
     "data": {
      "application/vnd.jupyter.widget-view+json": {
       "model_id": "5aeccaca8ba64dae83dcfe18da1e5dea",
       "version_major": 2,
       "version_minor": 0
      },
      "text/plain": [
       "Widget(is_numpy=True, nparr_model=b'\\xe1\\x0b\\x93\\xa9\\x82\\x815\\xc0\\xae\\xd8_vO\\xde\\x1d@Zd;\\xdfO\\xad6@\\xfb\\\\m\\xc5…"
      ]
     },
     "execution_count": 5,
     "metadata": {},
     "output_type": "execute_result"
    }
   ],
   "source": [
    "filepath = \"/home/data/region_of_interest/LoopSage_ChIA-PET.cif\"\n",
    "data = get_coordinates_cif(filepath)\n",
    "# print(data)\n",
    "# print(data.dtype)\n",
    "\n",
    "model_file = pathlib.Path(filepath)\n",
    "\n",
    "chromospyce.Widget(nparr_model=data.tobytes(), is_numpy=True)"
   ]
  },
  {
   "cell_type": "markdown",
   "id": "3dc39513-8e0d-44cd-ad74-f273e76679aa",
   "metadata": {},
   "source": [
    "# PHi-C2"
   ]
  },
  {
   "cell_type": "markdown",
   "id": "f2910916-8c78-42f2-bfe9-b743d7d14a62",
   "metadata": {},
   "source": [
    "## from Hi-C"
   ]
  },
  {
   "cell_type": "code",
   "execution_count": 6,
   "id": "1b30b87a-68e6-4d61-89fe-7678a93e83c3",
   "metadata": {},
   "outputs": [
    {
     "data": {
      "application/vnd.jupyter.widget-view+json": {
       "model_id": "d528cd9a0a1c44a7bea3808883655500",
       "version_major": 2,
       "version_minor": 0
      },
      "text/plain": [
       "Widget(delimiter='\\t', model=PosixPath('/home/data/region_of_interest/PHiC2_HiC/data_dynamics/sample0.xyz'))"
      ]
     },
     "execution_count": 6,
     "metadata": {},
     "output_type": "execute_result"
    }
   ],
   "source": [
    "## PHi-C2\n",
    "filepath = \"/home/data/region_of_interest/PHiC2_HiC/data_dynamics/sample0.xyz\"\n",
    "# filepath = \"/home/data/region_of_interest/PHiC2_ChIA-PET/data_dynamics/sample0.xyz\"\n",
    "\n",
    "model_file = pathlib.Path(filepath)\n",
    "\n",
    "chromospyce.Widget(model=model_file, delimiter=\"\\t\", is_numpy=False)"
   ]
  },
  {
   "cell_type": "markdown",
   "id": "82b38e7c-296b-4e33-927d-bb52274c95a7",
   "metadata": {},
   "source": [
    "## from ChIA-PET"
   ]
  },
  {
   "cell_type": "code",
   "execution_count": 9,
   "id": "739160af-a9b7-41ea-b1e8-4f7426dc4f4b",
   "metadata": {},
   "outputs": [
    {
     "data": {
      "application/vnd.jupyter.widget-view+json": {
       "model_id": "5461e416a00044baa055affb2f60330f",
       "version_major": 2,
       "version_minor": 0
      },
      "text/plain": [
       "Widget(delimiter='\\t', model=PosixPath('/home/data/region_of_interest/PHiC2_ChIA-PET/data_dynamics/sample0.xyz…"
      ]
     },
     "execution_count": 9,
     "metadata": {},
     "output_type": "execute_result"
    }
   ],
   "source": [
    "## PHi-C2 (ChIA-PET)\n",
    "# filepath = \"/home/data/region_of_interest/PHiC2_HiC/data_dynamics/sample0.xyz\"\n",
    "filepath = \"/home/data/region_of_interest/PHiC2_ChIA-PET/data_dynamics/sample0.xyz\"\n",
    "\n",
    "model_file = pathlib.Path(filepath)\n",
    "\n",
    "chromospyce.Widget(model=model_file, delimiter=\"\\t\", is_numpy=False)"
   ]
  },
  {
   "cell_type": "markdown",
   "id": "013385aa-f353-4847-b8dc-397707a3ca7f",
   "metadata": {},
   "source": [
    "# DIMES"
   ]
  },
  {
   "cell_type": "code",
   "execution_count": 11,
   "id": "be34e83a-017e-42e5-bd49-e9785503e49d",
   "metadata": {},
   "outputs": [
    {
     "data": {
      "application/vnd.jupyter.widget-view+json": {
       "model_id": "83a69a4abf094bc48c88a8aa861710ef",
       "version_major": 2,
       "version_minor": 0
      },
      "text/plain": [
       "Widget(model=PosixPath('/home/data/region_of_interest/DIMES_108_HiC/GM1287.xyz'))"
      ]
     },
     "execution_count": 11,
     "metadata": {},
     "output_type": "execute_result"
    }
   ],
   "source": [
    "## DIMES\n",
    "# model_file = pathlib.Path('/home/data/region_of_interest/DIMES/GM1287_1000.xyz')\n",
    "model_file = pathlib.Path('/home/data/region_of_interest/DIMES_108_HiC/GM1287.xyz')\n",
    "\n",
    "chromospyce.Widget(model=model_file, delimiter=\" \", is_numpy=False)"
   ]
  },
  {
   "cell_type": "code",
   "execution_count": 12,
   "id": "398ea84f-d671-4c48-b6be-64113db9547c",
   "metadata": {},
   "outputs": [
    {
     "data": {
      "application/vnd.jupyter.widget-view+json": {
       "model_id": "efb05275066f425cac7225d588167967",
       "version_major": 2,
       "version_minor": 0
      },
      "text/plain": [
       "Widget(model=PosixPath('/home/data/region_of_interest/DIMES_ChIA-PET/chiaPET.xyz'))"
      ]
     },
     "execution_count": 12,
     "metadata": {},
     "output_type": "execute_result"
    }
   ],
   "source": [
    "# from ChIA-PET\n",
    "model_file = pathlib.Path('/home/data/region_of_interest/DIMES_ChIA-PET/chiaPET.xyz')\n",
    "\n",
    "chromospyce.Widget(model=model_file, delimiter=\" \", is_numpy=False)"
   ]
  },
  {
   "cell_type": "markdown",
   "id": "1a286ce6-c9dc-423d-8650-2dbf4be29c29",
   "metadata": {},
   "source": [
    "# MultiEM"
   ]
  },
  {
   "cell_type": "code",
   "execution_count": 14,
   "id": "6308863c-5dbc-4ac2-a4c0-4687358325e8",
   "metadata": {},
   "outputs": [
    {
     "data": {
      "application/vnd.jupyter.widget-view+json": {
       "model_id": "5a33f4548c3a49e0a10696757f054d6f",
       "version_major": 2,
       "version_minor": 0
      },
      "text/plain": [
       "Widget(is_numpy=True, nparr_model=b'\\xb3\\xeas\\xb5\\x15\\xfb\\x06\\xc0Y\\x17\\xb7\\xd1\\x00\\x1e\\x11\\xc0\\xab>W[\\xb1\\x9f\\…"
      ]
     },
     "execution_count": 14,
     "metadata": {},
     "output_type": "execute_result"
    }
   ],
   "source": [
    "filepath = \"/home/blackpianocat/results/MultiEM/hakathon_HiC/MultiEM_afterMD.cif\"\n",
    "data = get_coordinates_cif(filepath)\n",
    "\n",
    "chromospyce.Widget(nparr_model=data.tobytes(), is_numpy=True)"
   ]
  },
  {
   "cell_type": "code",
   "execution_count": 13,
   "id": "803ee157-0e65-4bea-b222-651bfe03540a",
   "metadata": {},
   "outputs": [
    {
     "data": {
      "application/vnd.jupyter.widget-view+json": {
       "model_id": "777912ecbe534765867ea4a877967186",
       "version_major": 2,
       "version_minor": 0
      },
      "text/plain": [
       "Widget(is_numpy=True, nparr_model=b'\\x1a\\xc0[ A\\xf1\\xf3\\xbfF%u\\x02\\x9ah\"\\xc0T\\xe3\\xa5\\x9b\\xc4 $\\xc0L\\xa6\\nF%u\\…"
      ]
     },
     "execution_count": 13,
     "metadata": {},
     "output_type": "execute_result"
    }
   ],
   "source": [
    "filepath = \"/home/blackpianocat/results/MultiEM/hakathon_ChIAPET/MultiEM_afterMD.cif\"\n",
    "data = get_coordinates_cif(filepath)\n",
    "\n",
    "chromospyce.Widget(nparr_model=data.tobytes(), is_numpy=True)"
   ]
  },
  {
   "cell_type": "code",
   "execution_count": null,
   "id": "b6b95acc-5b56-4ab1-a603-4aa9656399ec",
   "metadata": {},
   "outputs": [],
   "source": []
  }
 ],
 "metadata": {
  "kernelspec": {
   "display_name": "Python 3 (ipykernel)",
   "language": "python",
   "name": "python3"
  },
  "language_info": {
   "codemirror_mode": {
    "name": "ipython",
    "version": 3
   },
   "file_extension": ".py",
   "mimetype": "text/x-python",
   "name": "python",
   "nbconvert_exporter": "python",
   "pygments_lexer": "ipython3",
   "version": "3.11.2"
  }
 },
 "nbformat": 4,
 "nbformat_minor": 5
}
